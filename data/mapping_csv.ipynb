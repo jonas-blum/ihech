{
 "cells": [
  {
   "cell_type": "code",
   "execution_count": 7,
   "metadata": {},
   "outputs": [
    {
     "name": "stdout",
     "output_type": "stream",
     "text": [
      "                             c  cl  interp  interpGrp  m  pc  phr    s  span  \\\n",
      "Atharvaveda_atharvavada_all  0   0       0          0  0   0    0  0.0     0   \n",
      "Atharvaveda_atharvaveda_new  0   0       0          0  0   0    0  0.0     0   \n",
      "Bullinger_1                  0   0       0          0  0   0    0  6.0     0   \n",
      "Bullinger_10                 0   0       0          0  0   0    0  6.0     0   \n",
      "Bullinger_10000              0   0       0          0  0   0    0  0.0     0   \n",
      "\n",
      "                             spanGrp  ...  surfaceGrp  surplus  transpose  \\\n",
      "Atharvaveda_atharvavada_all        0  ...           0        0          0   \n",
      "Atharvaveda_atharvaveda_new        0  ...           0        0          0   \n",
      "Bullinger_1                        0  ...           0        0          0   \n",
      "Bullinger_10                       0  ...           0        0          0   \n",
      "Bullinger_10000                    0  ...           0        0          0   \n",
      "\n",
      "                             undo  zone  caesura  metDecl  metSym  rhyme  \\\n",
      "Atharvaveda_atharvavada_all     0   0.0        0        0       0      0   \n",
      "Atharvaveda_atharvaveda_new     0   0.0        0        0       0      0   \n",
      "Bullinger_1                     0   0.0        0        0       0      0   \n",
      "Bullinger_10                    0   0.0        0        0       0      0   \n",
      "Bullinger_10000                 0   0.0        0        0       0      0   \n",
      "\n",
      "                                                  row_id  \n",
      "Atharvaveda_atharvavada_all  Atharvaveda_atharvavada_all  \n",
      "Atharvaveda_atharvaveda_new  Atharvaveda_atharvaveda_new  \n",
      "Bullinger_1                                  Bullinger_1  \n",
      "Bullinger_10                                Bullinger_10  \n",
      "Bullinger_10000                          Bullinger_10000  \n",
      "\n",
      "[5 rows x 587 columns]\n"
     ]
    }
   ],
   "source": [
    "\n",
    "\n",
    "import pandas as pd\n",
    "\n",
    "file_name = \"tag_depth.csv\"\n",
    "\n",
    "df = pd.read_csv(file_name, index_col=0)\n",
    "\n",
    "df[\"row_id\"] = df.index\n",
    "\n",
    "print(df.head())\n",
    "\n",
    "df[\"edition\"] = df[\"row_id\"].apply(lambda x: x.split(\"_\")[0])\n",
    "\n",
    "df.to_csv(file_name, index=False)"
   ]
  }
 ],
 "metadata": {
  "kernelspec": {
   "display_name": "base",
   "language": "python",
   "name": "python3"
  },
  "language_info": {
   "codemirror_mode": {
    "name": "ipython",
    "version": 3
   },
   "file_extension": ".py",
   "mimetype": "text/x-python",
   "name": "python",
   "nbconvert_exporter": "python",
   "pygments_lexer": "ipython3",
   "version": "3.10.12"
  }
 },
 "nbformat": 4,
 "nbformat_minor": 2
}
