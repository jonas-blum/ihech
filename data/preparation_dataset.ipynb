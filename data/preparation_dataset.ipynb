{
 "cells": [
  {
   "cell_type": "code",
   "execution_count": null,
   "metadata": {},
   "outputs": [],
   "source": [
    "import pandas as pd\n",
    "import numpy as np\n",
    "\n",
    "file_name = \"amount_different_attributes.csv\"\n",
    "\n",
    "df = pd.read_csv(file_name, index_col=0)\n",
    "\n",
    "cols_to_remove = df.select_dtypes(include=[np.number]).columns[(df.select_dtypes(include=[np.number]) == 0).all()]\n",
    "\n",
    "df.drop(cols_to_remove, axis=1, inplace=True)\n",
    "\n",
    "columns = df.columns.tolist()\n",
    "columns = sorted(columns)\n",
    "if 'edition' in columns:\n",
    "    columns.remove('edition')\n",
    "    columns.insert(0, 'edition')\n",
    "df = df[columns]\n",
    "\n",
    "df.to_csv(file_name)\n"
   ]
  }
 ],
 "metadata": {
  "language_info": {
   "name": "python"
  }
 },
 "nbformat": 4,
 "nbformat_minor": 2
}
