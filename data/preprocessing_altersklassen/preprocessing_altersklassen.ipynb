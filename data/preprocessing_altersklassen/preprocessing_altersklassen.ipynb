{
 "cells": [
  {
   "cell_type": "code",
   "execution_count": 3,
   "metadata": {},
   "outputs": [
    {
     "name": "stdout",
     "output_type": "stream",
     "text": [
      "Index(['Jahr', 'Kanton (-) / Bezirk (>>) / Gemeinde (......)',\n",
      "       'Bevölkerungstyp', 'Geschlecht', 'Zivilstand', '0-4 Jahre', '5-9 Jahre',\n",
      "       '10-14 Jahre', '15-19 Jahre', '20-24 Jahre', '25-29 Jahre',\n",
      "       '30-34 Jahre', '35-39 Jahre', '40-44 Jahre', '45-49 Jahre',\n",
      "       '50-54 Jahre', '55-59 Jahre', '60-64 Jahre', '65-69 Jahre',\n",
      "       '70-74 Jahre', '75-79 Jahre', '80-84 Jahre', '85-89 Jahre',\n",
      "       '90-94 Jahre', '95-99 Jahre', '100 Jahre und mehr'],\n",
      "      dtype='object')\n",
      "Bois-d'Amont\n",
      "Obersaxen Mundaun\n"
     ]
    }
   ],
   "source": [
    "import pandas as pd\n",
    "import numpy as np\n",
    "\n",
    "csv_name_altersklassen = \"2019_altersklassen.csv\"\n",
    "\n",
    "df = pd.read_csv(csv_name_altersklassen, encoding='ISO-8859-1')\n",
    "\n",
    "print(df.columns)\n",
    "\n",
    "df = df.drop(columns=[\"Jahr\", \"Bevölkerungstyp\", \"Geschlecht\", \"Zivilstand\"])\n",
    "\n",
    "df = df.rename(columns={'Kanton (-) / Bezirk (>>) / Gemeinde (......)': 'Gemeinde'})\n",
    "\n",
    "df['Kanton'] = np.nan\n",
    "df['Bezirk'] = np.nan\n",
    "\n",
    "for index, row in df.iterrows():\n",
    "    if row['Gemeinde'].startswith('-'):\n",
    "        current_kanton = row['Gemeinde'][1:].strip()\n",
    "    elif row['Gemeinde'].startswith('>>'):\n",
    "        current_bezirk = row['Gemeinde'][2:].strip()\n",
    "    elif row['Gemeinde'].startswith('......'):\n",
    "        \n",
    "        df.at[index, 'Kanton'] = current_kanton\n",
    "        df.at[index, 'Bezirk'] = current_bezirk\n",
    "        \n",
    "gemeinde_df = df[df['Gemeinde'].str.startswith('......')].copy()\n",
    "gemeinde_df['Gemeinde'] = gemeinde_df['Gemeinde'].map(lambda x: x[6:].strip())\n",
    "\n",
    "gemeinde_df[['Gemeindenummer', 'Gemeinde']] = gemeinde_df['Gemeinde'].str.split(' ', n=1, expand=True)\n",
    "\n",
    "gemeinde_df = gemeinde_df.drop(columns=[\"Gemeindenummer\"])\n",
    "\n",
    "gemeinde_df.to_csv(\"2019_altersklassen_absolute.csv\", index=False)\n",
    "\n",
    "non_numeric_columns = [\"Gemeinde\", \"Kanton\", \"Bezirk\"]\n",
    "\n",
    "\n",
    "numeric_gemeinde_df = gemeinde_df.drop(columns=non_numeric_columns)\n",
    "\n",
    "gemeinde_df['Total Population'] = numeric_gemeinde_df.sum(axis=1)\n",
    "for column in numeric_gemeinde_df.columns:\n",
    "    gemeinde_df[column] = gemeinde_df[column] / gemeinde_df['Total Population']\n",
    "\n",
    "gemeinde_df = gemeinde_df.drop(columns=[\"Total Population\"])\n",
    "\n",
    "\n",
    "\n",
    "\n",
    "df_municipalities = pd.read_csv(\"regions_municipalities.csv\", sep=\";\")\n",
    "# Match the GEO_NAME of df_municipalities to Gemeinde of df and add a column called Sprachregion to df based on DESC_VAL of df_municipalities\n",
    "\n",
    "for i, row in gemeinde_df.iterrows():\n",
    "        df_filtered = df_municipalities[df_municipalities[\"GEO_NAME\"] == row[\"Gemeinde\"]]\n",
    "        if len(df_filtered) > 0:\n",
    "            gemeinde_df.at[i, \"Sprachregion\"] = df_filtered[\"DESC_VAL\"].values[0]\n",
    "        else:\n",
    "            gemeinde_df.at[i, \"Sprachregion\"] = \"Unknown\"\n",
    "            print(row[\"Gemeinde\"])\n",
    "\n",
    "gemeinde_df.to_csv(\"2019_altersklassen_relative.csv\", index=False)\n"
   ]
  }
 ],
 "metadata": {
  "kernelspec": {
   "display_name": "base",
   "language": "python",
   "name": "python3"
  },
  "language_info": {
   "codemirror_mode": {
    "name": "ipython",
    "version": 3
   },
   "file_extension": ".py",
   "mimetype": "text/x-python",
   "name": "python",
   "nbconvert_exporter": "python",
   "pygments_lexer": "ipython3",
   "version": "3.11.7"
  }
 },
 "nbformat": 4,
 "nbformat_minor": 2
}
