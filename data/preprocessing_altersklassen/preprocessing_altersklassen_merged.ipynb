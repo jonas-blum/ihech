{
 "cells": [
  {
   "cell_type": "code",
   "execution_count": null,
   "metadata": {},
   "outputs": [],
   "source": [
    "csv_altersklassen = \"2019_altersklassen_cleaned.csv\"\n",
    "csv_totale_bevölkerung = \"2019_totale_bevölkerung_cleaned.csv\"\n",
    "\n"
   ]
  }
 ],
 "metadata": {
  "language_info": {
   "name": "python"
  }
 },
 "nbformat": 4,
 "nbformat_minor": 2
}
