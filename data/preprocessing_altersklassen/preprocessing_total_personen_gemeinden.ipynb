{
 "cells": [
  {
   "cell_type": "code",
   "execution_count": 2,
   "metadata": {},
   "outputs": [],
   "source": [
    "import pandas as pd\n",
    "import numpy as np\n",
    "\n",
    "csv_name_bevölkerung = \"2019_totale_bevölkerung.csv\"\n",
    "\n",
    "\n",
    "\n",
    "\n",
    "df = pd.read_csv(csv_name_bevölkerung, sep=\",\")\n",
    "\n",
    "df = df.drop(\"Jahr\", axis=1)\n",
    "df = df.drop(\"Bevoelkerungstyp\", axis=1)\n",
    "df = df.drop(\"Geburtsort\", axis=1)\n",
    "\n",
    "df = df.rename(columns={'Kanton (-) / Bezirk (>>) / Gemeinde (......)': 'Gemeinde'})\n",
    "df = df.rename(columns={'Staatsangehoerigkeit - Total': 'Total'})\n",
    "\n",
    "df['Kanton'] = np.nan\n",
    "df['Bezirk'] = np.nan\n",
    "\n",
    "for index, row in df.iterrows():\n",
    "    if row['Gemeinde'].startswith('-'):\n",
    "        current_kanton = row['Gemeinde'][1:].strip()\n",
    "    elif row['Gemeinde'].startswith('>>'):\n",
    "        current_bezirk = row['Gemeinde'][2:].strip()\n",
    "    elif row['Gemeinde'].startswith('......'):\n",
    "        \n",
    "        df.at[index, 'Kanton'] = current_kanton\n",
    "        df.at[index, 'Bezirk'] = current_bezirk\n",
    "        \n",
    "gemeinde_df = df[df['Gemeinde'].str.startswith('......')].copy()\n",
    "gemeinde_df['Gemeinde'] = gemeinde_df['Gemeinde'].map(lambda x: x[6:].strip())\n",
    "\n",
    "gemeinde_df[['Gemeindenummer', 'Gemeinde']] = gemeinde_df['Gemeinde'].str.split(' ', n=1, expand=True)\n",
    "gemeinde_df[\"Gemeindenummer\"] = gemeinde_df[\"Gemeindenummer\"].astype(int)\n",
    "\n",
    "gemeinde_df.to_csv(\"2019_totale_bevölkerung_cleaned.csv\", index=False)"
   ]
  }
 ],
 "metadata": {
  "kernelspec": {
   "display_name": "Python 3",
   "language": "python",
   "name": "python3"
  },
  "language_info": {
   "codemirror_mode": {
    "name": "ipython",
    "version": 3
   },
   "file_extension": ".py",
   "mimetype": "text/x-python",
   "name": "python",
   "nbconvert_exporter": "python",
   "pygments_lexer": "ipython3",
   "version": "3.10.12"
  }
 },
 "nbformat": 4,
 "nbformat_minor": 2
}
