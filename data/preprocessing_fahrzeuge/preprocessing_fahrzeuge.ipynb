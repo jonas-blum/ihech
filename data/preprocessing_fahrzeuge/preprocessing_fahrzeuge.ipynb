{
 "cells": [
  {
   "cell_type": "code",
   "execution_count": 8,
   "metadata": {},
   "outputs": [
    {
     "name": "stdout",
     "output_type": "stream",
     "text": [
      "            Gemeinde Fahrzeuggruppe                         Treibstoff  Anzahl\n",
      "0  1 Aeugst am Albis  Personenwagen                             Benzin      48\n",
      "1  1 Aeugst am Albis  Personenwagen                             Diesel      11\n",
      "2  1 Aeugst am Albis  Personenwagen   Benzin-elektrisch: Normal-Hybrid       7\n",
      "3  1 Aeugst am Albis  Personenwagen  Benzin-elektrisch: Plug-in-Hybrid       2\n",
      "4  1 Aeugst am Albis  Personenwagen   Diesel-elektrisch: Normal-Hybrid       0\n"
     ]
    }
   ],
   "source": [
    "import pandas as pd\n",
    "import numpy as np\n",
    "\n",
    "csv_file = \"2019_neue_fahrzeuge.csv\"\n",
    "\n",
    "df = pd.read_csv(csv_file, sep=\",\", encoding='ISO-8859-1')\n",
    "\n",
    "df = df.rename(columns={\"2019\": \"Anzahl\"})\n",
    "print(df.head())\n",
    "pivot_df = df.pivot_table(index=\"Gemeinde\", columns=[\"Fahrzeuggruppe\", \"Treibstoff\"], values=\"Anzahl\")\n",
    "\n",
    "pivot_df.reset_index(inplace=True)\n",
    "pivot_df[['Gemeindenummer', 'Gemeinde']] = pivot_df['Gemeinde'].str.split(' ', n=1, expand=True)\n",
    "pivot_df[\"Gemeindenummer\"] = pivot_df[\"Gemeindenummer\"].astype(int)\n",
    "\n",
    "\n",
    "pivot_df.columns = ['_'.join(col).strip() if isinstance(col, tuple) else col for col in pivot_df.columns.values]\n",
    "\n",
    "pivot_df = pivot_df.rename(columns={\"Gemeindenummer_\": \"Gemeindenummer\"})\n",
    "pivot_df = pivot_df.rename(columns={\"Gemeinde_\": \"Gemeinde\"})\n",
    "\n",
    "pivot_df.set_index('Gemeindenummer', inplace=True)\n",
    "\n",
    "\n",
    "pivot_df.to_csv(\"2019_neue_fahrzeuge_cleaned.csv\", encoding='ISO-8859-1')\n"
   ]
  }
 ],
 "metadata": {
  "kernelspec": {
   "display_name": "Python 3",
   "language": "python",
   "name": "python3"
  },
  "language_info": {
   "codemirror_mode": {
    "name": "ipython",
    "version": 3
   },
   "file_extension": ".py",
   "mimetype": "text/x-python",
   "name": "python",
   "nbconvert_exporter": "python",
   "pygments_lexer": "ipython3",
   "version": "3.10.12"
  }
 },
 "nbformat": 4,
 "nbformat_minor": 2
}
