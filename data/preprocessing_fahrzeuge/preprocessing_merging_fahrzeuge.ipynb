{
 "cells": [
  {
   "cell_type": "code",
   "execution_count": 11,
   "metadata": {},
   "outputs": [],
   "source": [
    "import pandas as pd\n",
    "import numpy as np\n",
    "\n",
    "csv_fahrzeuge = \"2019_neue_fahrzeuge_cleaned.csv\"\n",
    "\n",
    "csv_bevölkerung = \"2019_totale_bevölkerung_cleaned.csv\"\n",
    "\n",
    "df_fahrzeuge = pd.read_csv(csv_fahrzeuge, encoding='ISO-8859-1')\n",
    "df_fahrzeuge = df_fahrzeuge.drop(columns=\"Gemeinde\")\n",
    "df_bevölkerung = pd.read_csv(csv_bevölkerung, encoding='ISO-8859-1')\n",
    "\n",
    "df_merged = df_fahrzeuge.merge(df_bevölkerung, on='Gemeindenummer')\n",
    "\n",
    "df_absolute_numbers = df_merged.drop(columns=[\"Gemeindenummer\", \"Total\"])\n",
    "\n",
    "df_absolute_numbers.to_csv(\"2019_neue_fahrzeuge_merged_absolute.csv\", index=False)\n",
    "\n",
    "exclude_columns = ['Gemeindenummer', 'Gemeinde', 'Total', 'Kanton', 'Bezirk']\n",
    "\n",
    "\n",
    "\n",
    "non_vehicle_data = df_merged[exclude_columns]\n",
    "vehicle_data = df_merged.drop(columns=exclude_columns)\n",
    "\n",
    "relativized_vehicle_data = vehicle_data.div(df_merged['Total'], axis=0)\n",
    "\n",
    "final_data = pd.concat([non_vehicle_data, relativized_vehicle_data], axis=1)\n",
    "final_data = final_data.drop(columns=[\"Total\", \"Gemeindenummer\"])\n",
    "\n",
    "\n",
    "final_data.to_csv(\"2019_neue_fahrzeuge_merged.csv\", index=False)\n",
    "\n"
   ]
  }
 ],
 "metadata": {
  "kernelspec": {
   "display_name": "Python 3",
   "language": "python",
   "name": "python3"
  },
  "language_info": {
   "codemirror_mode": {
    "name": "ipython",
    "version": 3
   },
   "file_extension": ".py",
   "mimetype": "text/x-python",
   "name": "python",
   "nbconvert_exporter": "python",
   "pygments_lexer": "ipython3",
   "version": "3.10.12"
  }
 },
 "nbformat": 4,
 "nbformat_minor": 2
}
