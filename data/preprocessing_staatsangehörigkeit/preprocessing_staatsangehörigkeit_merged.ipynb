{
 "cells": [
  {
   "cell_type": "code",
   "execution_count": 6,
   "metadata": {},
   "outputs": [],
   "source": [
    "import pandas as pd\n",
    "import numpy as np\n",
    "\n",
    "csv_staatsangehörigkeit = \"2019_staatsangehörigkeit_cleaned.csv\"\n",
    "\n",
    "csv_totale_bevölkerung = \"2019_totale_bevölkerung_cleaned.csv\"\n",
    "\n",
    "df_staatsangehörigkeit = pd.read_csv(csv_staatsangehörigkeit, encoding='ISO-8859-1')\n",
    "df_totale_bevölkerung = pd.read_csv(csv_totale_bevölkerung, encoding='ISO-8859-1')\n",
    "\n",
    "df_staatsangehörigkeit.drop(columns=\"Gemeindenummer\").to_csv(\"2019_staatsangehörigkeit_absolute.csv\", index=False)\n",
    "\n",
    "df_totale_bevölkerung = df_totale_bevölkerung.drop(columns=[\"Gemeinde\", \"Kanton\", \"Bezirk\"])\n",
    "\n",
    "df_merged = pd.merge(df_staatsangehörigkeit, df_totale_bevölkerung, on=\"Gemeindenummer\")\n",
    "\n",
    "df_numeric_only = df_merged.drop(columns=[\"Gemeinde\", \"Gemeindenummer\", \"Kanton\", \"Bezirk\", \"Total\"])\n",
    "\n",
    "for column in df_numeric_only.columns:\n",
    "    df_numeric_only[column] = df_numeric_only[column] / df_merged['Total']\n",
    "\n",
    "\n",
    "df_final = pd.concat([df_merged[[\"Gemeinde\", \"Kanton\", \"Bezirk\"]], df_numeric_only], axis=1)\n",
    "\n",
    "df_final.to_csv(\"2019_staatsangehörigkeit_relative.csv\", index=False)"
   ]
  }
 ],
 "metadata": {
  "kernelspec": {
   "display_name": "Python 3",
   "language": "python",
   "name": "python3"
  },
  "language_info": {
   "codemirror_mode": {
    "name": "ipython",
    "version": 3
   },
   "file_extension": ".py",
   "mimetype": "text/x-python",
   "name": "python",
   "nbconvert_exporter": "python",
   "pygments_lexer": "ipython3",
   "version": "3.10.12"
  }
 },
 "nbformat": 4,
 "nbformat_minor": 2
}
