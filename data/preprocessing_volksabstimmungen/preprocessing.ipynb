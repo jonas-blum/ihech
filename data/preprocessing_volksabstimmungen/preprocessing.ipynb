{
 "cells": [
  {
   "cell_type": "code",
   "execution_count": 11,
   "metadata": {},
   "outputs": [
    {
     "name": "stdout",
     "output_type": "stream",
     "text": [
      "    Kanton (-) / Bezirk (>>) / Gemeinde (......)  \\\n",
      "118                                   - Zï¿½rich   \n",
      "239                          >> Bezirk Affoltern   \n",
      "360                        ......Aeugst am Albis   \n",
      "481                     ......Affoltern am Albis   \n",
      "602                             ......Bonstetten   \n",
      "\n",
      "                                     Datum und Vorlage Beteiligung in %  \\\n",
      "118  2010-03-07 Bundesgesetz ï¿½ber die berufliche ...            46.13   \n",
      "239  2010-03-07 Bundesgesetz ï¿½ber die berufliche ...            49.56   \n",
      "360  2010-03-07 Bundesgesetz ï¿½ber die berufliche ...            47.62   \n",
      "481  2010-03-07 Bundesgesetz ï¿½ber die berufliche ...            42.30   \n",
      "602  2010-03-07 Bundesgesetz ï¿½ber die berufliche ...            53.53   \n",
      "\n",
      "    Ja in %  \n",
      "118   32.73  \n",
      "239   32.43  \n",
      "360   35.12  \n",
      "481   29.77  \n",
      "602   31.73  \n"
     ]
    },
    {
     "name": "stderr",
     "output_type": "stream",
     "text": [
      "/var/folders/w7/3sh8mbdx6p30vgwkwwz5p0vh0000gp/T/ipykernel_25273/4068775840.py:32: FutureWarning: Setting an item of incompatible dtype is deprecated and will raise in a future error of pandas. Value 'Zï¿½rich' has dtype incompatible with float64, please explicitly cast to a compatible dtype first.\n",
      "  df.at[index, 'Kanton'] = current_kanton\n",
      "/var/folders/w7/3sh8mbdx6p30vgwkwwz5p0vh0000gp/T/ipykernel_25273/4068775840.py:33: FutureWarning: Setting an item of incompatible dtype is deprecated and will raise in a future error of pandas. Value 'Bezirk Affoltern' has dtype incompatible with float64, please explicitly cast to a compatible dtype first.\n",
      "  df.at[index, 'Bezirk'] = current_bezirk\n"
     ]
    },
    {
     "name": "stdout",
     "output_type": "stream",
     "text": [
      "                     Gemeinde  \\\n",
      "118                - Zï¿½rich   \n",
      "239       >> Bezirk Affoltern   \n",
      "360     ......Aeugst am Albis   \n",
      "481  ......Affoltern am Albis   \n",
      "602          ......Bonstetten   \n",
      "\n",
      "                                     Datum und Vorlage Beteiligung in %  \\\n",
      "118  2010-03-07 Bundesgesetz ï¿½ber die berufliche ...            46.13   \n",
      "239  2010-03-07 Bundesgesetz ï¿½ber die berufliche ...            49.56   \n",
      "360  2010-03-07 Bundesgesetz ï¿½ber die berufliche ...            47.62   \n",
      "481  2010-03-07 Bundesgesetz ï¿½ber die berufliche ...            42.30   \n",
      "602  2010-03-07 Bundesgesetz ï¿½ber die berufliche ...            53.53   \n",
      "\n",
      "    Ja in %    Kanton            Bezirk  \n",
      "118   32.73       NaN               NaN  \n",
      "239   32.43       NaN               NaN  \n",
      "360   35.12  Zï¿½rich  Bezirk Affoltern  \n",
      "481   29.77  Zï¿½rich  Bezirk Affoltern  \n",
      "602   31.73  Zï¿½rich  Bezirk Affoltern  \n"
     ]
    }
   ],
   "source": [
    "import pandas as pd\n",
    "import numpy as np\n",
    "\n",
    "csv_name = \"Volksabstimmungen.csv\"\n",
    "\n",
    "df = pd.read_csv(csv_name, sep=\",\", encoding='ISO-8859-1')\n",
    "\n",
    "df['Original_Order'] = np.arange(len(df))\n",
    "df = df.sort_values(by=['Datum und Vorlage', 'Original_Order'])\n",
    "df = df.drop('Original_Order', axis=1)\n",
    "\n",
    "print(df.head())\n",
    "\n",
    "df.rename(columns={'Kanton (-) / Bezirk (>>) / Gemeinde (......)': 'Gemeinde'}, inplace=True)\n",
    "\n",
    "df['Kanton'] = np.nan\n",
    "df['Bezirk'] = np.nan\n",
    "\n",
    "current_kanton = \"Test Kanton\"\n",
    "current_bezirk = \"Test Bezirk\"\n",
    "\n",
    "for index, row in df.iterrows():\n",
    "    if row['Gemeinde'].startswith('-'):\n",
    "        current_kanton = row['Gemeinde'][1:].strip()\n",
    "    elif row['Gemeinde'].startswith('>>'):\n",
    "        current_bezirk = row['Gemeinde'][2:].strip()\n",
    "    elif row['Gemeinde'].startswith('......'):\n",
    "        \n",
    "        df.at[index, 'Kanton'] = current_kanton\n",
    "        df.at[index, 'Bezirk'] = current_bezirk\n",
    "\n",
    "gemeinde_df = df[df['Gemeinde'].str.startswith('......')].copy()\n",
    "\n",
    "gemeinde_df['Gemeinde'] = gemeinde_df['Gemeinde'].map(lambda x: x[6:].strip())\n",
    "\n",
    "gemeinde_df['Beteiligung in %'] = pd.to_numeric(gemeinde_df['Beteiligung in %'], errors='coerce')\n",
    "gemeinde_df['Ja in %'] = pd.to_numeric(gemeinde_df['Ja in %'], errors='coerce')\n",
    "\n",
    "\n",
    "pivot_beteiligung = gemeinde_df.pivot_table(index=['Gemeinde', 'Kanton', 'Bezirk'], \n",
    "                                            columns='Datum und Vorlage', \n",
    "                                            values='Beteiligung in %')\n",
    "\n",
    "pivot_ja = gemeinde_df.pivot_table(index=['Gemeinde', 'Kanton', 'Bezirk'], \n",
    "                                   columns='Datum und Vorlage', \n",
    "                                   values='Ja in %')\n",
    "\n",
    "pivot_beteiligung.to_csv(\"Beteiligung_in_Prozent_Volksabstimmungen.csv\")\n",
    "pivot_ja.to_csv(\"Ja_in_Prozent_Volksabstimmungen.csv\")\n",
    "\n",
    "print(df.head())"
   ]
  }
 ],
 "metadata": {
  "kernelspec": {
   "display_name": "Python 3",
   "language": "python",
   "name": "python3"
  },
  "language_info": {
   "codemirror_mode": {
    "name": "ipython",
    "version": 3
   },
   "file_extension": ".py",
   "mimetype": "text/x-python",
   "name": "python",
   "nbconvert_exporter": "python",
   "pygments_lexer": "ipython3",
   "version": "3.11.7"
  }
 },
 "nbformat": 4,
 "nbformat_minor": 2
}
