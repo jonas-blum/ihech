{
 "cells": [
  {
   "cell_type": "code",
   "execution_count": 2,
   "metadata": {},
   "outputs": [
    {
     "name": "stdout",
     "output_type": "stream",
     "text": [
      "   anr       datum                                       titel_kurz_d  \\\n",
      "0  1.0  12.09.1848  Bundesverfassung der schweizerischen Eidgenoss...   \n",
      "1  2.0  14.01.1866                                   Mass und Gewicht   \n",
      "2  3.0  14.01.1866  Gleichstellung der Juden und Naturalisierten m...   \n",
      "3  4.0  14.01.1866  Stimmrecht der Niedergelassenen in Gemeindeang...   \n",
      "4  5.0  14.01.1866  Besteuerung und zivilrechtliche Verhältnisse d...   \n",
      "\n",
      "                                        titel_kurz_f  \\\n",
      "0   Constitution fédérale de la Confédération suisse   \n",
      "1                                   Poids et mesures   \n",
      "2                                  Egalité des Juifs   \n",
      "3  Droit de vote des Suisses établis, en matière ...   \n",
      "4      Impôts et rapports civils des Suisses établis   \n",
      "\n",
      "                                        titel_kurz_e  \\\n",
      "0    Federal Constitution of the Swiss Confederation   \n",
      "1                               Weights and measures   \n",
      "2  Equal rights for Jews and naturalised citizens...   \n",
      "3  Swiss residents' right to vote in communal mat...   \n",
      "4   Taxation and civil law status of Swiss residents   \n",
      "\n",
      "                                         titel_off_d  \\\n",
      "0               Totalrevision vom 12. September 1848   \n",
      "1                   Festsetzung von Mass und Gewicht   \n",
      "2  Gleichstellung der Juden und Naturalisierten m...   \n",
      "3  Stimmrecht der Niedergelassenen in Gemeindeang...   \n",
      "4  Besteuerung und zivilrechtliche Verhältnisse d...   \n",
      "\n",
      "                                         titel_off_f stichwort  \\\n",
      "0               Révision totale du 12 septembre 1848         .   \n",
      "1                                   Poids et mesures         .   \n",
      "2  Egalité des citoyens au point de vue de l'étab...         .   \n",
      "3  Droit de vote des Suisses établis, en matière ...         .   \n",
      "4      Impôts et rapports civils des Suisses établis         .   \n",
      "\n",
      "                    swissvoteslink  anzahl  ...  \\\n",
      "0  https://swissvotes.ch/vote/1.00       1  ...   \n",
      "1  https://swissvotes.ch/vote/2.00       9  ...   \n",
      "2  https://swissvotes.ch/vote/3.00       9  ...   \n",
      "3  https://swissvotes.ch/vote/4.00       9  ...   \n",
      "4  https://swissvotes.ch/vote/5.00       9  ...   \n",
      "\n",
      "                                        bkresults-fr  bfsdash-de bfsdash-fr  \\\n",
      "0  https://www.bk.admin.ch/ch/f/pore/va/18480606/...           .          .   \n",
      "1  https://www.bk.admin.ch/ch/f/pore/va/18660114/...           .          .   \n",
      "2  https://www.bk.admin.ch/ch/f/pore/va/18660114/...           .          .   \n",
      "3  https://www.bk.admin.ch/ch/f/pore/va/18660114/...           .          .   \n",
      "4  https://www.bk.admin.ch/ch/f/pore/va/18660114/...           .          .   \n",
      "\n",
      "  bfsdash-en                                          bfsmap-de  \\\n",
      "0          .                                                NaN   \n",
      "1          .  https://www.atlas.bfs.admin.ch/maps/12/map/map...   \n",
      "2          .  https://www.atlas.bfs.admin.ch/maps/12/map/map...   \n",
      "3          .  https://www.atlas.bfs.admin.ch/maps/12/map/map...   \n",
      "4          .  https://www.atlas.bfs.admin.ch/maps/12/map/map...   \n",
      "\n",
      "                                           bfsmap-fr  bfsmap-en  \\\n",
      "0                                                NaN          .   \n",
      "1  https://www.atlas.bfs.admin.ch/maps/12/map/map...          .   \n",
      "2  https://www.atlas.bfs.admin.ch/maps/12/map/map...          .   \n",
      "3  https://www.atlas.bfs.admin.ch/maps/12/map/map...          .   \n",
      "4  https://www.atlas.bfs.admin.ch/maps/12/map/map...          .   \n",
      "\n",
      "  nach_cockpit_d nach_cockpit_f nach_cockpit_e  \n",
      "0              .              .              .  \n",
      "1              .              .              .  \n",
      "2              .              .              .  \n",
      "3              .              .              .  \n",
      "4              .              .              .  \n",
      "\n",
      "[5 rows x 874 columns]\n"
     ]
    }
   ],
   "source": [
    "import pandas as pd\n",
    "\n",
    "\n",
    "df = pd.read_csv('swissvotes_dataset.csv', sep=';')\n",
    "\n",
    "# save as processed csv\n",
    "df.to_csv('swissvotes_dataset_processed.csv', index=False)\n",
    "print(df.head())    "
   ]
  }
 ],
 "metadata": {
  "kernelspec": {
   "display_name": "base",
   "language": "python",
   "name": "python3"
  },
  "language_info": {
   "codemirror_mode": {
    "name": "ipython",
    "version": 3
   },
   "file_extension": ".py",
   "mimetype": "text/x-python",
   "name": "python",
   "nbconvert_exporter": "python",
   "pygments_lexer": "ipython3",
   "version": "3.11.7"
  }
 },
 "nbformat": 4,
 "nbformat_minor": 2
}
