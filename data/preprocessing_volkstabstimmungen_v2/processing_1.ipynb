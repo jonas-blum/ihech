{
 "cells": [
  {
   "cell_type": "code",
   "execution_count": 6,
   "metadata": {},
   "outputs": [],
   "source": [
    "import pandas as pd\n",
    "import numpy as np\n",
    "\n",
    "\n",
    "df = pd.read_csv('original_data_by_municipality.csv', encoding='ISO-8859-1')\n",
    "\n",
    "\n",
    "df.rename(columns={\n",
    "    'Kanton (-) / Bezirk (>>) / Gemeinde (......)': 'Gemeinde',\n",
    "    'Ja in %': 'Ja',\n",
    "    'Datum und Vorlage': 'Datum und Vorlage'\n",
    "}, inplace=True)\n",
    "\n",
    "\n",
    "df['Kanton'] = np.nan\n",
    "df['Bezirk'] = np.nan\n",
    "\n",
    "current_kanton = \"Test Kanton\"\n",
    "current_bezirk = \"Test Bezirk\"\n",
    "\n",
    "for index, row in df.iterrows():\n",
    "    if row['Gemeinde'].startswith('-'):\n",
    "        current_kanton = row['Gemeinde'][1:].strip()\n",
    "    elif row['Gemeinde'].startswith('>>'):\n",
    "        current_bezirk = row['Gemeinde'][2:].strip()\n",
    "    elif row['Gemeinde'].startswith('......'):\n",
    "        \n",
    "        df.at[index, 'Kanton'] = current_kanton\n",
    "        df.at[index, 'Bezirk'] = current_bezirk\n",
    "\n",
    "# Remove all rows that are not municipalities\n",
    "df = df[df['Gemeinde'].str.startswith('......')]\n",
    "\n",
    "# Remove the \"......\" from the Gemeinde column\n",
    "df['Gemeinde'] = df['Gemeinde'].str[6:].str.strip()\n",
    "\n",
    "# Convert the \"Ja\" column to a float\n",
    "df['Ja'] = pd.to_numeric(df['Ja'], errors='coerce')\n",
    "df['Ja'] = df['Ja'] / 100\n",
    "\n",
    "# Pivot the df such that between \"Gemeinde\" and \"Vorlage\" is the \"Ja\" \n",
    "pivot_ja = df.pivot_table(index=['Gemeinde', 'Kanton', 'Bezirk'], \n",
    "                                   columns='Datum und Vorlage', \n",
    "                                   values='Ja')\n",
    "\n",
    "\n",
    "pivot_ja.to_csv('cleaned_data_by_municipality.csv', index=False)\n",
    "\n"
   ]
  }
 ],
 "metadata": {
  "kernelspec": {
   "display_name": "base",
   "language": "python",
   "name": "python3"
  },
  "language_info": {
   "codemirror_mode": {
    "name": "ipython",
    "version": 3
   },
   "file_extension": ".py",
   "mimetype": "text/x-python",
   "name": "python",
   "nbconvert_exporter": "python",
   "pygments_lexer": "ipython3",
   "version": "3.11.7"
  }
 },
 "nbformat": 4,
 "nbformat_minor": 2
}
