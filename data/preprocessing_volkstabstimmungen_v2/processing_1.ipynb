{
 "cells": [
  {
   "cell_type": "code",
   "execution_count": 2,
   "metadata": {},
   "outputs": [
    {
     "ename": "ParserError",
     "evalue": "Error tokenizing data. C error: Calling read(nbytes) on source failed. Try engine='python'.",
     "output_type": "error",
     "traceback": [
      "\u001b[0;31m---------------------------------------------------------------------------\u001b[0m",
      "\u001b[0;31mParserError\u001b[0m                               Traceback (most recent call last)",
      "Cell \u001b[0;32mIn[2], line 7\u001b[0m\n\u001b[1;32m      4\u001b[0m \u001b[38;5;66;03m# Download from https://www.pxweb.bfs.admin.ch/pxweb/de/px-x-1703030000_101/px-x-1703030000_101/px-x-1703030000_101.px\u001b[39;00m\n\u001b[1;32m      5\u001b[0m csv_name \u001b[38;5;241m=\u001b[39m \u001b[38;5;124m\"\u001b[39m\u001b[38;5;124moriginal_data_by_municipality.csv\u001b[39m\u001b[38;5;124m\"\u001b[39m\n\u001b[0;32m----> 7\u001b[0m df \u001b[38;5;241m=\u001b[39m pd\u001b[38;5;241m.\u001b[39mread_csv(csv_name, sep\u001b[38;5;241m=\u001b[39m\u001b[38;5;124m\"\u001b[39m\u001b[38;5;124m,\u001b[39m\u001b[38;5;124m\"\u001b[39m, encoding\u001b[38;5;241m=\u001b[39m\u001b[38;5;124m\"\u001b[39m\u001b[38;5;124mISO-8859-1\u001b[39m\u001b[38;5;124m\"\u001b[39m)\n\u001b[1;32m     11\u001b[0m df[\u001b[38;5;124m\"\u001b[39m\u001b[38;5;124mOriginal_Order\u001b[39m\u001b[38;5;124m\"\u001b[39m] \u001b[38;5;241m=\u001b[39m np\u001b[38;5;241m.\u001b[39marange(\u001b[38;5;28mlen\u001b[39m(df))\n\u001b[1;32m     12\u001b[0m df \u001b[38;5;241m=\u001b[39m df\u001b[38;5;241m.\u001b[39msort_values(by\u001b[38;5;241m=\u001b[39m[\u001b[38;5;124m\"\u001b[39m\u001b[38;5;124mDatum und Vorlage\u001b[39m\u001b[38;5;124m\"\u001b[39m, \u001b[38;5;124m\"\u001b[39m\u001b[38;5;124mOriginal_Order\u001b[39m\u001b[38;5;124m\"\u001b[39m])\n",
      "File \u001b[0;32m/opt/anaconda3/lib/python3.11/site-packages/pandas/io/parsers/readers.py:912\u001b[0m, in \u001b[0;36mread_csv\u001b[0;34m(filepath_or_buffer, sep, delimiter, header, names, index_col, usecols, dtype, engine, converters, true_values, false_values, skipinitialspace, skiprows, skipfooter, nrows, na_values, keep_default_na, na_filter, verbose, skip_blank_lines, parse_dates, infer_datetime_format, keep_date_col, date_parser, date_format, dayfirst, cache_dates, iterator, chunksize, compression, thousands, decimal, lineterminator, quotechar, quoting, doublequote, escapechar, comment, encoding, encoding_errors, dialect, on_bad_lines, delim_whitespace, low_memory, memory_map, float_precision, storage_options, dtype_backend)\u001b[0m\n\u001b[1;32m    899\u001b[0m kwds_defaults \u001b[38;5;241m=\u001b[39m _refine_defaults_read(\n\u001b[1;32m    900\u001b[0m     dialect,\n\u001b[1;32m    901\u001b[0m     delimiter,\n\u001b[0;32m   (...)\u001b[0m\n\u001b[1;32m    908\u001b[0m     dtype_backend\u001b[38;5;241m=\u001b[39mdtype_backend,\n\u001b[1;32m    909\u001b[0m )\n\u001b[1;32m    910\u001b[0m kwds\u001b[38;5;241m.\u001b[39mupdate(kwds_defaults)\n\u001b[0;32m--> 912\u001b[0m \u001b[38;5;28;01mreturn\u001b[39;00m _read(filepath_or_buffer, kwds)\n",
      "File \u001b[0;32m/opt/anaconda3/lib/python3.11/site-packages/pandas/io/parsers/readers.py:583\u001b[0m, in \u001b[0;36m_read\u001b[0;34m(filepath_or_buffer, kwds)\u001b[0m\n\u001b[1;32m    580\u001b[0m     \u001b[38;5;28;01mreturn\u001b[39;00m parser\n\u001b[1;32m    582\u001b[0m \u001b[38;5;28;01mwith\u001b[39;00m parser:\n\u001b[0;32m--> 583\u001b[0m     \u001b[38;5;28;01mreturn\u001b[39;00m parser\u001b[38;5;241m.\u001b[39mread(nrows)\n",
      "File \u001b[0;32m/opt/anaconda3/lib/python3.11/site-packages/pandas/io/parsers/readers.py:1704\u001b[0m, in \u001b[0;36mTextFileReader.read\u001b[0;34m(self, nrows)\u001b[0m\n\u001b[1;32m   1697\u001b[0m nrows \u001b[38;5;241m=\u001b[39m validate_integer(\u001b[38;5;124m\"\u001b[39m\u001b[38;5;124mnrows\u001b[39m\u001b[38;5;124m\"\u001b[39m, nrows)\n\u001b[1;32m   1698\u001b[0m \u001b[38;5;28;01mtry\u001b[39;00m:\n\u001b[1;32m   1699\u001b[0m     \u001b[38;5;66;03m# error: \"ParserBase\" has no attribute \"read\"\u001b[39;00m\n\u001b[1;32m   1700\u001b[0m     (\n\u001b[1;32m   1701\u001b[0m         index,\n\u001b[1;32m   1702\u001b[0m         columns,\n\u001b[1;32m   1703\u001b[0m         col_dict,\n\u001b[0;32m-> 1704\u001b[0m     ) \u001b[38;5;241m=\u001b[39m \u001b[38;5;28mself\u001b[39m\u001b[38;5;241m.\u001b[39m_engine\u001b[38;5;241m.\u001b[39mread(  \u001b[38;5;66;03m# type: ignore[attr-defined]\u001b[39;00m\n\u001b[1;32m   1705\u001b[0m         nrows\n\u001b[1;32m   1706\u001b[0m     )\n\u001b[1;32m   1707\u001b[0m \u001b[38;5;28;01mexcept\u001b[39;00m \u001b[38;5;167;01mException\u001b[39;00m:\n\u001b[1;32m   1708\u001b[0m     \u001b[38;5;28mself\u001b[39m\u001b[38;5;241m.\u001b[39mclose()\n",
      "File \u001b[0;32m/opt/anaconda3/lib/python3.11/site-packages/pandas/io/parsers/c_parser_wrapper.py:234\u001b[0m, in \u001b[0;36mCParserWrapper.read\u001b[0;34m(self, nrows)\u001b[0m\n\u001b[1;32m    232\u001b[0m \u001b[38;5;28;01mtry\u001b[39;00m:\n\u001b[1;32m    233\u001b[0m     \u001b[38;5;28;01mif\u001b[39;00m \u001b[38;5;28mself\u001b[39m\u001b[38;5;241m.\u001b[39mlow_memory:\n\u001b[0;32m--> 234\u001b[0m         chunks \u001b[38;5;241m=\u001b[39m \u001b[38;5;28mself\u001b[39m\u001b[38;5;241m.\u001b[39m_reader\u001b[38;5;241m.\u001b[39mread_low_memory(nrows)\n\u001b[1;32m    235\u001b[0m         \u001b[38;5;66;03m# destructive to chunks\u001b[39;00m\n\u001b[1;32m    236\u001b[0m         data \u001b[38;5;241m=\u001b[39m _concatenate_chunks(chunks)\n",
      "File \u001b[0;32m/opt/anaconda3/lib/python3.11/site-packages/pandas/_libs/parsers.pyx:812\u001b[0m, in \u001b[0;36mpandas._libs.parsers.TextReader.read_low_memory\u001b[0;34m()\u001b[0m\n",
      "File \u001b[0;32m/opt/anaconda3/lib/python3.11/site-packages/pandas/_libs/parsers.pyx:873\u001b[0m, in \u001b[0;36mpandas._libs.parsers.TextReader._read_rows\u001b[0;34m()\u001b[0m\n",
      "File \u001b[0;32m/opt/anaconda3/lib/python3.11/site-packages/pandas/_libs/parsers.pyx:848\u001b[0m, in \u001b[0;36mpandas._libs.parsers.TextReader._tokenize_rows\u001b[0;34m()\u001b[0m\n",
      "File \u001b[0;32m/opt/anaconda3/lib/python3.11/site-packages/pandas/_libs/parsers.pyx:859\u001b[0m, in \u001b[0;36mpandas._libs.parsers.TextReader._check_tokenize_status\u001b[0;34m()\u001b[0m\n",
      "File \u001b[0;32m/opt/anaconda3/lib/python3.11/site-packages/pandas/_libs/parsers.pyx:2025\u001b[0m, in \u001b[0;36mpandas._libs.parsers.raise_parser_error\u001b[0;34m()\u001b[0m\n",
      "\u001b[0;31mParserError\u001b[0m: Error tokenizing data. C error: Calling read(nbytes) on source failed. Try engine='python'."
     ]
    }
   ],
   "source": [
    "import pandas as pd\n",
    "import numpy as np\n",
    "\n",
    "# Download from https://www.pxweb.bfs.admin.ch/pxweb/de/px-x-1703030000_101/px-x-1703030000_101/px-x-1703030000_101.px\n",
    "csv_name = \"original_data_by_municipality.csv\"\n",
    "\n",
    "df = pd.read_csv(csv_name, sep=\",\", encoding=\"ISO-8859-1\")\n",
    "\n",
    "\n",
    "\n",
    "df[\"Original_Order\"] = np.arange(len(df))\n",
    "df = df.sort_values(by=[\"Datum und Vorlage\", \"Original_Order\"])\n",
    "df = df.drop(\"Original_Order\", axis=1)\n",
    "\n",
    "print(df.head())\n",
    "\n",
    "df.rename(\n",
    "    columns={\"Kanton (-) / Bezirk (>>) / Gemeinde (......)\": \"Gemeinde\"}, inplace=True\n",
    ")\n",
    "\n",
    "df[\"Kanton\"] = np.nan\n",
    "df[\"Bezirk\"] = np.nan\n",
    "\n",
    "current_kanton = \"Test Kanton\"\n",
    "current_bezirk = \"Test Bezirk\"\n",
    "\n",
    "for index, row in df.iterrows():\n",
    "    if row[\"Gemeinde\"].startswith(\"-\"):\n",
    "        current_kanton = row[\"Gemeinde\"][1:].strip()\n",
    "    elif row[\"Gemeinde\"].startswith(\">>\"):\n",
    "        current_bezirk = row[\"Gemeinde\"][2:].strip()\n",
    "    elif row[\"Gemeinde\"].startswith(\"......\"):\n",
    "\n",
    "        df.at[index, \"Kanton\"] = current_kanton\n",
    "        df.at[index, \"Bezirk\"] = current_bezirk\n",
    "\n",
    "gemeinde_df = df[df[\"Gemeinde\"].str.startswith(\"......\")].copy()\n",
    "\n",
    "gemeinde_df[\"Gemeinde\"] = gemeinde_df[\"Gemeinde\"].map(lambda x: x[6:].strip())\n",
    "\n",
    "\n",
    "gemeinde_df[\"Ja in %\"] = pd.to_numeric(gemeinde_df[\"Ja in %\"], errors=\"coerce\")\n",
    "\n",
    "\n",
    "pivot_ja = gemeinde_df.pivot_table(\n",
    "    index=[\"Gemeinde\", \"Kanton\", \"Bezirk\"],\n",
    "    columns=\"Datum und Vorlage\",\n",
    "    values=\"Ja in %\",\n",
    ")\n",
    "\n",
    "pivot_ja.to_csv(\"cleaned_data_by_municipality.csv\")\n",
    "\n",
    "print(df.head())"
   ]
  },
  {
   "cell_type": "code",
   "execution_count": 11,
   "metadata": {},
   "outputs": [
    {
     "name": "stdout",
     "output_type": "stream",
     "text": [
      "AG-Ausland-CH\n",
      "AI-Anderes\n",
      "AI-Ausland-CH\n",
      "AI-Korrespondenzweg\n",
      "BE-Anderes\n",
      "BS-Ausland-CH\n",
      "Basse-Vendline\n",
      "Bois-d'Amont\n",
      "Damphreux-Lugnez\n",
      "FR-CH de l'étranger\n",
      "GE-CH de l'étranger\n",
      "GE-autres\n",
      "GR-Anderes\n",
      "Herznach-Ueken\n",
      "LU-Ausland-CH\n",
      "NW-Anderes\n",
      "Obersaxen Mundaun\n",
      "SG-Ausland-CH\n",
      "SO-Anderes\n",
      "SZ-Anderes\n",
      "SZ-Korrespondenzweg\n",
      "TG-Ausland-CH\n",
      "TI-altri\n",
      "TI-voto per corrispondenza\n",
      "UR-Ausland-CH\n",
      "VD-CH de l'étranger\n",
      "VD-autres\n",
      "VS-CH de l'étranger\n",
      "VS-autres\n",
      "ZH-Anderes\n",
      "ZH-Ausland-CH\n"
     ]
    }
   ],
   "source": [
    "import pandas as pd\n",
    "import numpy as np\n",
    "\n",
    "df = pd.read_csv(\"cleaned_data_by_municipality.csv\")\n",
    "df_municipalities = pd.read_csv(\"regions_municipalities.csv\", sep=\";\")\n",
    "# Match the GEO_NAME of df_municipalities to Gemeinde of df and add a column called Sprachregion to df based on DESC_VAL of df_municipalities\n",
    "\n",
    "for i, row in df.iterrows():\n",
    "        df_filtered = df_municipalities[df_municipalities[\"GEO_NAME\"] == row[\"Gemeinde\"]]\n",
    "        if len(df_filtered) > 0:\n",
    "            df.at[i, \"Sprachregion\"] = df_filtered[\"DESC_VAL\"].values[0]\n",
    "        else:\n",
    "            df.at[i, \"Sprachregion\"] = \"Unknown\"\n",
    "            print(row[\"Gemeinde\"])\n",
    "\n",
    "df.to_csv(\"cleaned_data_by_municipality.csv\", index=False)\n"
   ]
  }
 ],
 "metadata": {
  "kernelspec": {
   "display_name": "base",
   "language": "python",
   "name": "python3"
  },
  "language_info": {
   "codemirror_mode": {
    "name": "ipython",
    "version": 3
   },
   "file_extension": ".py",
   "mimetype": "text/x-python",
   "name": "python",
   "nbconvert_exporter": "python",
   "pygments_lexer": "ipython3",
   "version": "3.11.7"
  }
 },
 "nbformat": 4,
 "nbformat_minor": 2
}
