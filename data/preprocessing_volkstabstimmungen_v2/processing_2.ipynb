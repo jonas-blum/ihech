{
 "cells": [
  {
   "cell_type": "code",
   "execution_count": null,
   "metadata": {},
   "outputs": [],
   "source": [
    "import pandas as pd\n",
    "\n",
    "\n",
    "\n",
    "df_metdata = pd.read_csv('original_metadata_per_votum.csv')\n",
    "df_metdata = df_metdata[df_metdata[\"Level\"] == \"national\"]\n",
    "\n",
    "columns_to_keep = [\"Title (de)\", \"Date\", \"Institution\", \"Theme 1\", \"Theme 2\", \"Theme 3\",\"Vote trigger\", \"Vote Result status\", \"Official status\", \"Legal act type\", \"Vote trigger actor\"]\n",
    "\n",
    "df_metdata = df_metdata[columns_to_keep]\n",
    "df_metdata.to_csv('cleaned_metadata_per_votum.csv', index=False)\n"
   ]
  }
 ],
 "metadata": {
  "kernelspec": {
   "display_name": "base",
   "language": "python",
   "name": "python3"
  },
  "language_info": {
   "codemirror_mode": {
    "name": "ipython",
    "version": 3
   },
   "file_extension": ".py",
   "mimetype": "text/x-python",
   "name": "python",
   "nbconvert_exporter": "python",
   "pygments_lexer": "ipython3",
   "version": "3.11.7"
  }
 },
 "nbformat": 4,
 "nbformat_minor": 2
}
