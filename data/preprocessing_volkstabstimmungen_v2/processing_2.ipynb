{
 "cells": [
  {
   "cell_type": "code",
   "execution_count": null,
   "metadata": {},
   "outputs": [],
   "source": [
    "import pandas as pd\n",
    "\n",
    "\n",
    "df_metdata = pd.read_csv(\"original_metadata_per_votum.csv\")\n",
    "df_metdata = df_metdata[df_metdata[\"Level\"] == \"national\"]\n",
    "\n",
    "columns_to_keep = [\n",
    "    \"Title (de)\",\n",
    "    \"Date\",\n",
    "    \"Institution\",\n",
    "    \"Theme 1\",\n",
    "    \"Theme 2\",\n",
    "    \"Theme 3\",\n",
    "    \"Vote trigger\",\n",
    "    \"Vote Result status\",\n",
    "    \"Official status\",\n",
    "    \"Legal act type\",\n",
    "    \"Vote trigger actor\",\n",
    "]\n",
    "\n",
    "df_metdata = df_metdata[columns_to_keep]\n",
    "df_metdata.to_csv(\"cleaned_metadata_per_votum.csv\", index=False)"
   ]
  }
 ],
 "metadata": {
  "kernelspec": {
   "display_name": "base",
   "language": "python",
   "name": "python3"
  },
  "language_info": {
   "codemirror_mode": {
    "name": "ipython",
    "version": 3
   },
   "file_extension": ".py",
   "mimetype": "text/x-python",
   "name": "python",
   "nbconvert_exporter": "python",
   "pygments_lexer": "ipython3",
   "version": "3.11.7"
  }
 },
 "nbformat": 4,
 "nbformat_minor": 2
}
