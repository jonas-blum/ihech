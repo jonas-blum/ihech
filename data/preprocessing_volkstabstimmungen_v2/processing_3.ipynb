{
 "cells": [
  {
   "cell_type": "code",
   "execution_count": null,
   "metadata": {},
   "outputs": [],
   "source": [
    "import pandas as pd\n",
    "\n",
    "\n",
    "\n",
    "\n",
    "columns_metadata = [\"Title (de)\", \"Date\", \"Institution\", \"Theme 1\", \"Theme 2\", \"Theme 3\",\"Vote trigger\", \"Vote Result status\", \"Official status\", \"Legal act type\", \"Vote trigger actor\"]\n",
    "columns_by_municipality = [\"Gemeinde\",\"Vorlage\",\"Ja\",\"Datum\",\"Kanton\",\"Bezirk\"]\n",
    "\n",
    "df_metadata = pd.read_csv(\"cleaned_metadata_per_votum.csv\")\n",
    "df_municipality = pd.read_csv(\"cleaned_data_by_municipality.csv\")\n"
   ]
  }
 ],
 "metadata": {
  "kernelspec": {
   "display_name": "base",
   "language": "python",
   "name": "python3"
  },
  "language_info": {
   "codemirror_mode": {
    "name": "ipython",
    "version": 3
   },
   "file_extension": ".py",
   "mimetype": "text/x-python",
   "name": "python",
   "nbconvert_exporter": "python",
   "pygments_lexer": "ipython3",
   "version": "3.11.7"
  }
 },
 "nbformat": 4,
 "nbformat_minor": 2
}
