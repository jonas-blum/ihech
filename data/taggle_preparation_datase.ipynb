{
 "cells": [
  {
   "cell_type": "code",
   "execution_count": 11,
   "metadata": {},
   "outputs": [],
   "source": [
    "import pandas as pd\n",
    "\n",
    "file_name = \"amount_different_attributes.csv\"\n",
    "df = pd.read_csv(file_name, index_col=0)\n",
    "\n",
    "cols_to_remove = df.select_dtypes(include=[int, float]).columns[(df.select_dtypes(include=[int, float]) == 0).all()]\n",
    "df.drop(cols_to_remove, axis=1, inplace=True)\n",
    "\n",
    "columns = df.columns.tolist()\n",
    "if 'edition' in columns:\n",
    "    columns.remove('edition')\n",
    "    columns.insert(0, 'edition')\n",
    "else:\n",
    "    print(\"'edition' column not found, adjusting the script to proceed without it.\")\n",
    "\n",
    "df = df[columns]\n",
    "\n",
    "df.reset_index(inplace=True)\n",
    "df.rename(columns={'index': 'row_ids'}, inplace=True)\n",
    "\n",
    "if 'edition' in df.columns:\n",
    "    attributes_columns = [col for col in df.columns if col not in ['row_ids', 'edition']]\n",
    "else:\n",
    "    attributes_columns = [col for col in df.columns if col != 'row_ids']\n",
    "\n",
    "df['attributes'] = df.apply(lambda row: [row[key] for key in attributes_columns][:30], axis=1)\n",
    "final_columns = ['row_ids', 'edition', 'attributes'] if 'edition' in df.columns else ['row_ids', 'attributes']\n",
    "df_final = df[final_columns]\n",
    "\n",
    "output_file_path = \"taggle_amount_different_attributes.json\"\n",
    "df_final.to_json(output_file_path, orient='records', indent=2)"
   ]
  }
 ],
 "metadata": {
  "kernelspec": {
   "display_name": "base",
   "language": "python",
   "name": "python3"
  },
  "language_info": {
   "codemirror_mode": {
    "name": "ipython",
    "version": 3
   },
   "file_extension": ".py",
   "mimetype": "text/x-python",
   "name": "python",
   "nbconvert_exporter": "python",
   "pygments_lexer": "ipython3",
   "version": "3.11.7"
  }
 },
 "nbformat": 4,
 "nbformat_minor": 2
}
