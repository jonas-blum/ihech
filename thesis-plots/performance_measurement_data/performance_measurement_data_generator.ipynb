{
 "cells": [
  {
   "cell_type": "code",
   "execution_count": 2,
   "metadata": {},
   "outputs": [
    {
     "name": "stdout",
     "output_type": "stream",
     "text": [
      "Dataframe with 1000 rows saved to dataframe_1000_rows.csv\n",
      "Dataframe with 5000 rows saved to dataframe_5000_rows.csv\n",
      "Dataframe with 10000 rows saved to dataframe_10000_rows.csv\n",
      "Dataframe with 50000 rows saved to dataframe_50000_rows.csv\n",
      "Dataframe with 100000 rows saved to dataframe_100000_rows.csv\n",
      "Dataframe with 500000 rows saved to dataframe_500000_rows.csv\n",
      "Dataframe with 1000000 rows saved to dataframe_1000000_rows.csv\n"
     ]
    }
   ],
   "source": [
    "import pandas as pd\n",
    "import numpy as np\n",
    "\n",
    "\n",
    "def create_dataframe(rows, cols):\n",
    "    np.random.seed(42)\n",
    "    \n",
    "    attribute_columns = [f'attribute{i+1}' for i in range(cols)]\n",
    "    \n",
    "    df = pd.DataFrame(np.round(np.random.randn(rows, cols),3), columns=attribute_columns)\n",
    "    \n",
    "    df['item_name'] = [f'Item_{i+1}' for i in range(rows)]\n",
    "    \n",
    "    csv_filename = f'dataframe_{rows}_rows.csv'\n",
    "    df.to_csv(csv_filename, index=False)\n",
    "    print(f'Dataframe with {rows} rows saved to {csv_filename}')\n",
    "    \n",
    "row_sizes = [1000, 5000, 10000, 50000, 100000, 500000]\n",
    "for size in row_sizes:\n",
    "    create_dataframe(size, 20)"
   ]
  }
 ],
 "metadata": {
  "kernelspec": {
   "display_name": "Python 3",
   "language": "python",
   "name": "python3"
  },
  "language_info": {
   "codemirror_mode": {
    "name": "ipython",
    "version": 3
   },
   "file_extension": ".py",
   "mimetype": "text/x-python",
   "name": "python",
   "nbconvert_exporter": "python",
   "pygments_lexer": "ipython3",
   "version": "3.11.7"
  }
 },
 "nbformat": 4,
 "nbformat_minor": 2
}
