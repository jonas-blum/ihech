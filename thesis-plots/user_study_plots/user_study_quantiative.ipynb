{
 "cells": [
  {
   "cell_type": "code",
   "execution_count": 13,
   "metadata": {},
   "outputs": [],
   "source": [
    "import pandas as pd\n",
    "import matplotlib.pyplot as plt\n",
    "\n",
    "df = pd.read_csv('user_study_time_and_correct.csv')\n",
    "\n",
    "df_grouped_by_assignment = df.groupby('assignment')\n",
    "df_grouped_by_assignment_correct = df[df['correct'] == 1].groupby('assignment')\n",
    "df_average_time_if_correct = df_grouped_by_assignment_correct['time'].mean()\n",
    "\n",
    "plt.figure()\n",
    "df_average_time_if_correct.plot(kind='bar')\n",
    "plt.ylabel('Time (s)')\n",
    "plt.xlabel('Assignment')\n",
    "plt.title('Average Time Spent on Each Assignment')\n",
    "plt.tight_layout()\n",
    "plt.savefig('average_time_spent_on_each_assignment.pdf', bbox_inches='tight')\n",
    "plt.close()\n",
    "\n",
    "grouped = df.groupby(['assignment', 'correct']).size().unstack(fill_value=0)\n",
    "\n",
    "grouped.columns = ['Incorrect', 'Correct']\n",
    "\n",
    "grouped = grouped[['Correct', 'Incorrect']]\n",
    "\n",
    "fig, ax = plt.subplots()\n",
    "\n",
    "grouped.plot(kind='bar', stacked=True, color=['blue', 'red'], ax=ax)\n",
    "\n",
    "ax.set_ylabel('Count of Answers')\n",
    "ax.set_xlabel('Assignment')\n",
    "ax.set_title('Count of Correct and Incorrect Answers by Assignment')\n",
    "\n",
    "ax.set_ylim(0, df['assignment'].value_counts().max())\n",
    "\n",
    "ax.legend(title='', loc='upper left', bbox_to_anchor=(1, 1))\n",
    "\n",
    "plt.tight_layout()\n",
    "plt.savefig('correctness_count_by_assignment.pdf', bbox_inches='tight')\n",
    "plt.close()"
   ]
  }
 ],
 "metadata": {
  "kernelspec": {
   "display_name": "Python 3",
   "language": "python",
   "name": "python3"
  },
  "language_info": {
   "codemirror_mode": {
    "name": "ipython",
    "version": 3
   },
   "file_extension": ".py",
   "mimetype": "text/x-python",
   "name": "python",
   "nbconvert_exporter": "python",
   "pygments_lexer": "ipython3",
   "version": "3.10.12"
  }
 },
 "nbformat": 4,
 "nbformat_minor": 2
}
