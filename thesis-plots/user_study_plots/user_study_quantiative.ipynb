{
 "cells": [
  {
   "cell_type": "code",
   "execution_count": 12,
   "metadata": {},
   "outputs": [],
   "source": [
    "import pandas as pd\n",
    "import matplotlib.pyplot as plt\n",
    "\n",
    "df = pd.read_csv('user_study_time_and_correct.csv')\n",
    "\n",
    "df_grouped_by_assignment = df.groupby('assignment')\n",
    "df_grouped_by_assignment_correct = df[df['correct'] == 1].groupby('assignment')\n",
    "\n",
    "df_average_correctness = df_grouped_by_assignment['correct'].mean()*100\n",
    "\n",
    "df_average_time_if_correct = df_grouped_by_assignment_correct['time'].mean()\n",
    "\n",
    "#plot the average time spent on each assignment\n",
    "plt.figure()\n",
    "df_average_time_if_correct.plot(kind='bar')\n",
    "plt.ylabel('Time (s)')\n",
    "plt.xlabel('Assignment')\n",
    "plt.title('Average Time Spent on Each Assignment')\n",
    "plt.tight_layout()\n",
    "plt.savefig('average_time_spent_on_each_assignment.pdf', bbox_inches='tight')\n",
    "plt.close()\n",
    "\n",
    "#plot the average correctness of each assignment\n",
    "plt.figure()\n",
    "df_average_correctness.plot(kind='bar')\n",
    "plt.ylabel('Percentage of Correct Answers')\n",
    "plt.xlabel('Assignment')\n",
    "plt.title('Percentage of Correct Responses by Assignment')\n",
    "plt.tight_layout()\n",
    "plt.savefig('average_correctness_of_each_assignment.pdf', bbox_inches='tight')\n",
    "plt.close()\n"
   ]
  }
 ],
 "metadata": {
  "kernelspec": {
   "display_name": "Python 3",
   "language": "python",
   "name": "python3"
  },
  "language_info": {
   "codemirror_mode": {
    "name": "ipython",
    "version": 3
   },
   "file_extension": ".py",
   "mimetype": "text/x-python",
   "name": "python",
   "nbconvert_exporter": "python",
   "pygments_lexer": "ipython3",
   "version": "3.10.12"
  }
 },
 "nbformat": 4,
 "nbformat_minor": 2
}
